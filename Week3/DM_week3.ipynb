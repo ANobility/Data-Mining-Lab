{
 "cells": [
  {
   "cell_type": "markdown",
   "id": "3b540d04",
   "metadata": {},
   "source": [
    "Week3 Getting Started"
   ]
  },
  {
   "cell_type": "code",
   "execution_count": 65,
   "id": "ff581757",
   "metadata": {},
   "outputs": [
    {
     "name": "stdout",
     "output_type": "stream",
     "text": [
      "[[ 2.34356293  0.79351428]\n",
      " [ 0.5285368   4.49723858]\n",
      " [ 2.52889351  0.82015861]\n",
      " [ 0.16932115  4.19741719]\n",
      " [ 0.4519936   3.59377836]\n",
      " [ 0.802314    4.38196181]\n",
      " [-2.10063834  2.69897224]\n",
      " [-1.05219361  2.96165788]\n",
      " [ 2.3914149   1.10139458]\n",
      " [ 0.65910903  4.12241674]\n",
      " [ 1.34081536  4.36827878]\n",
      " [ 1.59141542  4.90497725]\n",
      " [ 2.28809874  0.12954182]\n",
      " [ 1.74265969  5.03846671]\n",
      " [-1.89928142  2.50466299]\n",
      " [ 2.989047    1.35068599]\n",
      " [-1.57613028  2.58614312]\n",
      " [ 0.56969694  3.44064603]\n",
      " [-1.56102482  3.77455362]\n",
      " [-2.07909568  2.9439648 ]\n",
      " [-1.84871321  1.80618069]\n",
      " [-1.54654542  2.33383551]\n",
      " [-1.20683825  2.10940424]\n",
      " [ 0.5323772   3.31338909]\n",
      " [ 1.51989121  1.42488952]\n",
      " [ 2.11872357  1.09865834]\n",
      " [ 1.67030948  1.16728826]\n",
      " [ 1.4726926   1.3480769 ]\n",
      " [-1.71149493  2.79819267]\n",
      " [-1.14100874  3.32963434]\n",
      " [ 1.04829186  5.03092408]\n",
      " [ 2.79939362  1.84560825]\n",
      " [ 1.84845803  0.52393625]\n",
      " [ 1.72330962  4.2012082 ]\n",
      " [-1.75467026  2.92662184]\n",
      " [-0.33533163  3.390122  ]\n",
      " [ 0.92466065  4.50908658]\n",
      " [ 1.71810119  0.91357894]\n",
      " [ 2.23345072  1.25095024]\n",
      " [-1.89668551  3.68938956]\n",
      " [-0.96358605  2.37791651]\n",
      " [ 2.25643834  0.55525861]\n",
      " [ 2.20438661  1.56085661]\n",
      " [ 0.12313498  5.27917503]\n",
      " [ 1.05374379  4.49286859]\n",
      " [ 0.72144399  4.08475018]\n",
      " [ 1.61986895  0.60823883]\n",
      " [ 1.70798359  0.82284639]\n",
      " [-1.98331513  3.47639041]\n",
      " [-1.26526568  2.8321091 ]\n",
      " [-0.44528604  3.58614624]\n",
      " [ 1.73734448  1.23588031]\n",
      " [ 0.5226209   4.32976003]\n",
      " [ 2.15940501  1.38598318]\n",
      " [-1.77592024  3.88264829]\n",
      " [-1.09848871  2.59236946]\n",
      " [ 2.64465731  0.80770124]\n",
      " [ 2.06051753  1.79059891]\n",
      " [ 0.99914934  4.2101954 ]\n",
      " [ 2.99684287  0.22378413]\n",
      " [ 1.42002502  1.38236201]\n",
      " [-2.17333247  3.0514077 ]\n",
      " [-1.92860885  2.57310737]\n",
      " [-1.44356727  3.23539798]\n",
      " [-2.27253281  3.13757811]\n",
      " [ 1.85367905  1.5088862 ]\n",
      " [ 1.35678894  4.36462484]\n",
      " [-2.02701169  2.14549671]\n",
      " [ 1.89949126  0.92574633]\n",
      " [ 1.45131429  4.22810872]\n",
      " [-1.0664746   3.07724609]\n",
      " [ 2.11114739  3.57660449]\n",
      " [-0.30022483  4.63059663]\n",
      " [ 3.01673853  1.63792106]\n",
      " [ 1.62465468  1.85269614]\n",
      " [ 1.54597042  3.68637442]\n",
      " [ 1.06498315  4.10289686]\n",
      " [ 0.64003985  4.12401075]\n",
      " [-1.70390097  2.23040661]\n",
      " [ 2.24348029  0.34796326]\n",
      " [ 0.3498724   4.69253251]\n",
      " [ 1.00952869  4.45502328]\n",
      " [ 1.92126584  1.29889186]\n",
      " [ 0.16117091  4.53517846]\n",
      " [ 1.46870582  1.86947425]\n",
      " [ 1.19820169  4.47062449]\n",
      " [ 0.96217896  4.51795326]\n",
      " [ 0.72086751  3.71347124]\n",
      " [ 2.36230721  1.358767  ]\n",
      " [ 0.78260667  4.15263595]\n",
      " [ 1.83769075  1.82229552]\n",
      " [ 2.25327088  0.35113291]\n",
      " [-0.97707422  3.24551413]\n",
      " [-2.04402543  3.25867952]\n",
      " [-2.18485772  2.68708996]\n",
      " [-0.93288912  3.07635357]\n",
      " [ 1.13280393  3.87673946]\n",
      " [ 1.40848818  3.93270482]\n",
      " [-1.21428829  2.11685343]\n",
      " [-2.13962177  3.34006375]] [1 0 1 0 0 0 2 2 1 0 0 0 1 0 2 1 2 0 2 2 2 2 2 0 1 1 1 1 2 2 0 1 1 0 2 2 0\n",
      " 1 1 2 2 1 1 0 0 0 1 1 2 2 2 1 0 1 2 2 1 1 0 1 1 2 2 2 2 1 0 2 1 0 2 0 0 1\n",
      " 1 0 0 0 2 1 0 0 1 0 1 0 0 0 1 0 1 1 2 2 2 2 0 0 2 2]\n"
     ]
    }
   ],
   "source": [
    "import sklearn.datasets as data\n",
    "x,clusters = data._samples_generator.make_blobs(n_samples=100,n_features=2,cluster_std=0.5,random_state=0)\n",
    "print(x,clusters)"
   ]
  },
  {
   "cell_type": "code",
   "execution_count": 66,
   "id": "d4e8ec76",
   "metadata": {},
   "outputs": [
    {
     "data": {
      "text/plain": [
       "<matplotlib.collections.PathCollection at 0x7f7db18ce5e0>"
      ]
     },
     "execution_count": 66,
     "metadata": {},
     "output_type": "execute_result"
    },
    {
     "data": {
      "image/png": "[encoded data removed]",
      "text/plain": [
       "<Figure size 432x288 with 1 Axes>"
      ]
     },
     "metadata": {
      "needs_background": "light"
     },
     "output_type": "display_data"
    }
   ],
   "source": [
    "import matplotlib.pyplot as plt\n",
    "plt.scatter(x[:,0],x[:,1],c='g')"
   ]
  },
  {
   "cell_type": "markdown",
   "id": "92b497e1",
   "metadata": {},
   "source": [
    "3 Write K-Mean Yourself"
   ]
  },
  {
   "cell_type": "code",
   "execution_count": 67,
   "id": "fef23dcb",
   "metadata": {},
   "outputs": [
    {
     "name": "stdout",
     "output_type": "stream",
     "text": [
      "(-2.063569007650808, 4.81780764219415) (0.2671483458051487, 4.101389793112714) (-1.579091768537217, 1.5026608581098482)\n"
     ]
    }
   ],
   "source": [
    "##K=3\n",
    "import random\n",
    "k1=(random.uniform(min(x[:,0]),max(x[:,0])),random.uniform(min(x[:,1]),max(x[:,1])))\n",
    "k2=(random.uniform(min(x[:,0]),max(x[:,0])),random.uniform(min(x[:,1]),max(x[:,1])))\n",
    "k3=(random.uniform(min(x[:,0]),max(x[:,0])),random.uniform(min(x[:,1]),max(x[:,1])))\n",
    "print(k1,k2,k3)\n"
   ]
  },
  {
   "cell_type": "code",
   "execution_count": 68,
   "id": "a7724ebf",
   "metadata": {},
   "outputs": [
    {
     "name": "stdout",
     "output_type": "stream",
     "text": [
      "(-1.8895866217094128, 3.47433765457117) (1.248322904413718, 3.0733605146693272) (-0.502283626591897, 1.9493752506679167)\n",
      "False False False\n",
      "(-1.6050858247545376, 3.132677638440515) (1.5244143758450777, 2.6900240737723546) (-1.2397115661166525, 2.369636057709724)\n",
      "False False False\n",
      "(-1.395416684404347, 3.3622227408252794) (1.5676100455855884, 2.620738052948435) (-1.508478428974072, 2.280326927994946)\n",
      "False False False\n",
      "(-1.1598350169090372, 3.564599112969716) (1.609804022003042, 2.561891704774098) (-1.6435988660819854, 2.397187965917094)\n",
      "False False False\n",
      "(-0.8209517049038707, 3.7850331317853945) (1.6459448611647345, 2.5001714515711604) (-1.713435843877835, 2.5501217404391414)\n",
      "False False False\n",
      "(0.017727722632201123, 4.099219103952743) (1.8306281747719007, 2.092752602405001) (-1.7174168434028603, 2.696854275230727)\n",
      "False False False\n",
      "(0.8059590690859934, 4.241608071972579) (2.0977040851183326, 1.1968285651759796) (-1.6312606928648121, 2.8645110385510626)\n",
      "False False False\n",
      "(0.9147156609682812, 4.266371140244401) (2.0972967122267576, 1.1247141432071002) (-1.556051489187293, 2.902306376847352)\n",
      "False False False\n",
      "(0.9147156609682812, 4.266371140244401) (2.0972967122267576, 1.1247141432071002) (-1.556051489187293, 2.902306376847352)\n",
      "True True True\n",
      "[array([0.5285368 , 4.49723858]), array([0.16932115, 4.19741719]), array([0.4519936 , 3.59377836]), array([0.802314  , 4.38196181]), array([0.65910903, 4.12241674]), array([1.34081536, 4.36827878]), array([1.59141542, 4.90497725]), array([1.74265969, 5.03846671]), array([0.56969694, 3.44064603]), array([0.5323772 , 3.31338909]), array([1.04829186, 5.03092408]), array([1.72330962, 4.2012082 ]), array([0.92466065, 4.50908658]), array([0.12313498, 5.27917503]), array([1.05374379, 4.49286859]), array([0.72144399, 4.08475018]), array([0.5226209 , 4.32976003]), array([0.99914934, 4.2101954 ]), array([1.35678894, 4.36462484]), array([1.45131429, 4.22810872]), array([2.11114739, 3.57660449]), array([-0.30022483,  4.63059663]), array([1.54597042, 3.68637442]), array([1.06498315, 4.10289686]), array([0.64003985, 4.12401075]), array([0.3498724 , 4.69253251]), array([1.00952869, 4.45502328]), array([0.16117091, 4.53517846]), array([1.19820169, 4.47062449]), array([0.96217896, 4.51795326]), array([0.72086751, 3.71347124]), array([0.78260667, 4.15263595]), array([1.13280393, 3.87673946]), array([1.40848818, 3.93270482])] [array([2.34356293, 0.79351428]), array([2.52889351, 0.82015861]), array([2.3914149 , 1.10139458]), array([2.28809874, 0.12954182]), array([2.989047  , 1.35068599]), array([1.51989121, 1.42488952]), array([2.11872357, 1.09865834]), array([1.67030948, 1.16728826]), array([1.4726926, 1.3480769]), array([2.79939362, 1.84560825]), array([1.84845803, 0.52393625]), array([1.71810119, 0.91357894]), array([2.23345072, 1.25095024]), array([2.25643834, 0.55525861]), array([2.20438661, 1.56085661]), array([1.61986895, 0.60823883]), array([1.70798359, 0.82284639]), array([1.73734448, 1.23588031]), array([2.15940501, 1.38598318]), array([2.64465731, 0.80770124]), array([2.06051753, 1.79059891]), array([2.99684287, 0.22378413]), array([1.42002502, 1.38236201]), array([1.85367905, 1.5088862 ]), array([1.89949126, 0.92574633]), array([3.01673853, 1.63792106]), array([1.62465468, 1.85269614]), array([2.24348029, 0.34796326]), array([1.92126584, 1.29889186]), array([1.46870582, 1.86947425]), array([2.36230721, 1.358767  ]), array([1.83769075, 1.82229552]), array([2.25327088, 0.35113291])] [array([-2.10063834,  2.69897224]), array([-1.05219361,  2.96165788]), array([-1.89928142,  2.50466299]), array([-1.57613028,  2.58614312]), array([-1.56102482,  3.77455362]), array([-2.07909568,  2.9439648 ]), array([-1.84871321,  1.80618069]), array([-1.54654542,  2.33383551]), array([-1.20683825,  2.10940424]), array([-1.71149493,  2.79819267]), array([-1.14100874,  3.32963434]), array([-1.75467026,  2.92662184]), array([-0.33533163,  3.390122  ]), array([-1.89668551,  3.68938956]), array([-0.96358605,  2.37791651]), array([-1.98331513,  3.47639041]), array([-1.26526568,  2.8321091 ]), array([-0.44528604,  3.58614624]), array([-1.77592024,  3.88264829]), array([-1.09848871,  2.59236946]), array([-2.17333247,  3.0514077 ]), array([-1.92860885,  2.57310737]), array([-1.44356727,  3.23539798]), array([-2.27253281,  3.13757811]), array([-2.02701169,  2.14549671]), array([-1.0664746 ,  3.07724609]), array([-1.70390097,  2.23040661]), array([-0.97707422,  3.24551413]), array([-2.04402543,  3.25867952]), array([-2.18485772,  2.68708996]), array([-0.93288912,  3.07635357]), array([-1.21428829,  2.11685343]), array([-2.13962177,  3.34006375])]\n"
     ]
    }
   ],
   "source": [
    "import numpy as np\n",
    "flag=True\n",
    "while flag:\n",
    "    list1=[]\n",
    "    list2=[]\n",
    "    list3=[]\n",
    "    for i in x :\n",
    "        dist1 = np.sqrt(np.sum(np.square(i - k1)))\n",
    "        dist2 = np.sqrt(np.sum(np.square(i - k2)))\n",
    "        dist3 = np.sqrt(np.sum(np.square(i - k3)))\n",
    "        if dist1<= dist2 and dist1<= dist3:\n",
    "            list1.append(i)\n",
    "        if dist2< dist1 and dist2<= dist3:\n",
    "            list2.append(i)\n",
    "        if dist3< dist1 and dist3< dist2:\n",
    "            list3.append(i)\n",
    "    #print(list1,list2,list3)\n",
    "    #print('')\n",
    "    if len(list1)!=0 and len(list1)!=1 :\n",
    "        new_k1=(np.mean([x[0] for x in list1]),np.mean([x[1] for x in list1]))\n",
    "    else:\n",
    "        new_k1=k1\n",
    "    if len(list2)!=0 and len(list2)!=1: \n",
    "        new_k2=(np.mean([x[0] for x in list2]),np.mean([x[1] for x in list2]))\n",
    "    else:\n",
    "        new_k2=k2\n",
    "    if len(list3)!=0 and len(list3)!=1 :\n",
    "        new_k3=(np.mean([x[0] for x in list3]),np.mean([x[1] for x in list3]))\n",
    "    else:\n",
    "        new_k3=k3\n",
    "\n",
    "    print(new_k1,new_k2,new_k3)\n",
    "    print(new_k1==k1,new_k2==k2,new_k3==k3)\n",
    "    #flag=False\n",
    "    if new_k1==k1 and new_k2==k2 and new_k1==k1:\n",
    "        flag=False\n",
    "        break\n",
    "    else:\n",
    "        k1=new_k1\n",
    "        k2=new_k2\n",
    "        k3=new_k3\n",
    "\n",
    "   \n",
    "print(list1,list2,list3)"
   ]
  },
  {
   "cell_type": "code",
   "execution_count": 69,
   "id": "b3ddef49",
   "metadata": {},
   "outputs": [
    {
     "name": "stdout",
     "output_type": "stream",
     "text": [
      "[1, 0, 1, 0, 0, 0, 2, 2, 1, 0, 0, 0, 1, 0, 2, 1, 2, 0, 2, 2, 2, 2, 2, 0, 1, 1, 1, 1, 2, 2, 0, 1, 1, 0, 2, 2, 0, 1, 1, 2, 2, 1, 1, 0, 0, 0, 1, 1, 2, 2, 2, 1, 0, 1, 2, 2, 1, 1, 0, 1, 1, 2, 2, 2, 2, 1, 0, 2, 1, 0, 2, 0, 0, 1, 1, 0, 0, 0, 2, 1, 0, 0, 1, 0, 1, 0, 0, 0, 1, 0, 1, 1, 2, 2, 2, 2, 0, 0, 2, 2]\n"
     ]
    }
   ],
   "source": [
    "hand_list=[]\n",
    "for i in x :\n",
    "    for a in list1:\n",
    "        if all(a==i)==True:\n",
    "            hand_list.append(0)\n",
    "    for a in list2:\n",
    "        if all(a==i)==True:\n",
    "            hand_list.append(1)\n",
    "    for a in list3:\n",
    "        if all(a==i)==True:\n",
    "            hand_list.append(2)\n",
    "    \n",
    "print(hand_list)"
   ]
  },
  {
   "cell_type": "code",
   "execution_count": 70,
   "id": "eef920c0",
   "metadata": {},
   "outputs": [
    {
     "name": "stdout",
     "output_type": "stream",
     "text": [
      "100 100\n",
      "1.0\n"
     ]
    }
   ],
   "source": [
    "right_num=0\n",
    "print(len(hand_list),len(clusters))\n",
    "for i in range(len(hand_list)):\n",
    "    if hand_list[i]==clusters[i]:\n",
    "        right_num+=1\n",
    "print(right_num/len(hand_list))"
   ]
  },
  {
   "cell_type": "markdown",
   "id": "a9eadcf9",
   "metadata": {},
   "source": [
    "4  K-Means from scikit-learn"
   ]
  },
  {
   "cell_type": "code",
   "execution_count": 71,
   "id": "599f4d76",
   "metadata": {},
   "outputs": [
    {
     "name": "stdout",
     "output_type": "stream",
     "text": [
      "[0 2 0 2 2 2 1 1 0 2 2 2 0 2 1 0 1 2 1 1 1 1 1 2 0 0 0 0 1 1 2 0 0 2 1 1 2\n",
      " 0 0 1 1 0 0 2 2 2 0 0 1 1 1 0 2 0 1 1 0 0 2 0 0 1 1 1 1 0 2 1 0 2 1 2 2 0\n",
      " 0 2 2 2 1 0 2 2 0 2 0 2 2 2 0 2 0 0 1 1 1 1 2 2 1 1]\n",
      "48.23520512521981\n"
     ]
    }
   ],
   "source": [
    "import sklearn.cluster as cluster\n",
    "\n",
    "km=cluster.KMeans(n_clusters=3)\n",
    "km.fit(x)\n",
    "\n",
    "print(km.labels_)\n",
    "print(km.inertia_)"
   ]
  },
  {
   "cell_type": "code",
   "execution_count": 72,
   "id": "579e4862",
   "metadata": {},
   "outputs": [
    {
     "name": "stdout",
     "output_type": "stream",
     "text": [
      "0.6933016797323995 ++++++++++++++++++ 397.7344360401503\n"
     ]
    }
   ],
   "source": [
    "import sklearn.metrics as metrics\n",
    "sc=metrics.silhouette_score(x,km.labels_,metric='euclidean')\n",
    "ch=metrics.calinski_harabasz_score(x,km.labels_)\n",
    "print(sc,'++++++++++++++++++',ch)"
   ]
  },
  {
   "cell_type": "markdown",
   "id": "eaa4235a",
   "metadata": {},
   "source": [
    "5 Write Agglomerative Clustering using scikit-learn"
   ]
  },
  {
   "cell_type": "code",
   "execution_count": 73,
   "id": "1b37b82b",
   "metadata": {},
   "outputs": [
    {
     "name": "stdout",
     "output_type": "stream",
     "text": [
      "[1 0 1 0 0 0 2 2 1 0 0 0 1 0 2 1 2 0 2 2 2 2 2 0 1 1 1 1 2 2 0 1 1 0 2 2 0\n",
      " 1 1 2 2 1 1 0 0 0 1 1 2 2 2 1 0 1 2 2 1 1 0 1 1 2 2 2 2 1 0 2 1 0 2 0 0 1\n",
      " 1 0 0 0 2 1 0 0 1 0 1 0 0 0 1 0 1 1 2 2 2 2 0 0 2 2]\n",
      "100\n",
      "[[ 79  91]\n",
      " [ 22  98]\n",
      " [ 10  66]\n",
      " [  9  77]\n",
      " [ 36  86]\n",
      " [ 44  81]\n",
      " [ 27  60]\n",
      " [ 14  62]\n",
      " [ 45 103]\n",
      " [  6  94]\n",
      " [ 37  47]\n",
      " [ 26  51]\n",
      " [ 24 106]\n",
      " [104 105]\n",
      " [  2  56]\n",
      " [  7  70]\n",
      " [ 89 108]\n",
      " [ 93  99]\n",
      " [ 58  76]\n",
      " [ 61  64]\n",
      " [ 17  23]\n",
      " [ 28  34]\n",
      " [ 95 115]\n",
      " [ 38  53]\n",
      " [ 74  84]\n",
      " [  1  52]\n",
      " [ 69 102]\n",
      " [ 29  92]\n",
      " [ 88 123]\n",
      " [ 21  78]\n",
      " [ 68 110]\n",
      " [ 11  13]\n",
      " [ 41 100]\n",
      " [ 19 119]\n",
      " [ 85 113]\n",
      " [ 48 117]\n",
      " [ 65  82]\n",
      " [ 35  50]\n",
      " [ 57  90]\n",
      " [ 39  54]\n",
      " [  4 120]\n",
      " [ 32  46]\n",
      " [  0 114]\n",
      " [ 80  83]\n",
      " [ 42 128]\n",
      " [ 40  55]\n",
      " [  5 134]\n",
      " [122 127]\n",
      " [  8  25]\n",
      " [107 109]\n",
      " [ 96  97]\n",
      " [ 15  73]\n",
      " [111 136]\n",
      " [ 12 132]\n",
      " [ 18 139]\n",
      " [ 16 129]\n",
      " [144 148]\n",
      " [116 118]\n",
      " [ 87 140]\n",
      " [130 141]\n",
      " [133 135]\n",
      " [125 143]\n",
      " [ 33 126]\n",
      " [112 152]\n",
      " [ 75 150]\n",
      " [ 20  67]\n",
      " [ 49 147]\n",
      " [124 138]\n",
      " [121 149]\n",
      " [ 31 151]\n",
      " [146 157]\n",
      " [101 145]\n",
      " [  3 161]\n",
      " [ 63 166]\n",
      " [155 168]\n",
      " [162 164]\n",
      " [142 153]\n",
      " [163 167]\n",
      " [ 30 131]\n",
      " [170 172]\n",
      " [156 177]\n",
      " [165 174]\n",
      " [154 160]\n",
      " [159 176]\n",
      " [ 43  72]\n",
      " [175 179]\n",
      " [171 173]\n",
      " [181 186]\n",
      " [158 185]\n",
      " [180 183]\n",
      " [182 187]\n",
      " [178 188]\n",
      " [169 189]\n",
      " [184 191]\n",
      " [ 59 192]\n",
      " [137 190]\n",
      " [ 71 193]\n",
      " [195 196]\n",
      " [194 197]]\n"
     ]
    }
   ],
   "source": [
    "import sklearn.cluster as cluster\n",
    "ac=cluster.AgglomerativeClustering(n_clusters=3,linkage='average',affinity='euclidean')\n",
    "ac.fit(x)\n",
    "\n",
    "print(ac.labels_)\n",
    "print(ac.n_leaves_)\n",
    "print(ac.children_)"
   ]
  },
  {
   "cell_type": "code",
   "execution_count": 74,
   "id": "a9f05d04",
   "metadata": {},
   "outputs": [
    {
     "name": "stdout",
     "output_type": "stream",
     "text": [
      "(99, 2)\n"
     ]
    },
    {
     "data": {
      "image/png": "[encoded data removed]",
      "text/plain": [
       "<Figure size 432x288 with 1 Axes>"
      ]
     },
     "metadata": {
      "needs_background": "light"
     },
     "output_type": "display_data"
    }
   ],
   "source": [
    "import numpy as np\n",
    "import matplotlib.pyplot as plt\n",
    "import scipy.cluster.hierarchy as hieracchy\n",
    "\n",
    "plt.figure()\n",
    "Z = np.empty([len(ac.children_),4],dtype=float)\n",
    "\n",
    "print(ac.children_.shape)\n",
    "cluster_distances = np.arange(ac.children_.shape[0])\n",
    "cluster_sizes = np.arange(2,ac.children_.shape[0]+2)\n",
    "\n",
    "for i in range(len(ac.children_)):\n",
    "    Z[i][0] = ac.children_[i][0]\n",
    "    Z[i][1] = ac.children_[i][1]\n",
    "    Z[i][2] = cluster_distances[i]\n",
    "    Z[i][3] = cluster_sizes[i]\n",
    "\n",
    "hieracchy.dendrogram(Z)\n",
    "plt.show()"
   ]
  },
  {
   "cell_type": "markdown",
   "id": "e28a6043",
   "metadata": {},
   "source": [
    "6 Write DBSCAN with scikit-learn"
   ]
  },
  {
   "cell_type": "code",
   "execution_count": 79,
   "id": "8cbbfa97",
   "metadata": {},
   "outputs": [
    {
     "data": {
      "text/plain": [
       "DBSCAN(min_samples=1)"
      ]
     },
     "execution_count": 79,
     "metadata": {},
     "output_type": "execute_result"
    }
   ],
   "source": [
    "import sklearn.cluster as cluster\n",
    "db = cluster.DBSCAN(eps=0.5,min_samples=1)\n",
    "db.fit(x)\n"
   ]
  },
  {
   "cell_type": "code",
   "execution_count": 76,
   "id": "a2662b1d",
   "metadata": {},
   "outputs": [
    {
     "data": {
      "text/plain": [
       "<matplotlib.collections.PathCollection at 0x7f7da07550a0>"
      ]
     },
     "execution_count": 76,
     "metadata": {},
     "output_type": "execute_result"
    },
    {
     "data": {
      "image/png": "[encoded data removed]",
      "text/plain": [
       "<Figure size 432x288 with 1 Axes>"
      ]
     },
     "metadata": {
      "needs_background": "light"
     },
     "output_type": "display_data"
    }
   ],
   "source": [
    "plt.scatter(x[:,0],x[:,1],c='g')"
   ]
  },
  {
   "cell_type": "code",
   "execution_count": 89,
   "id": "9b8a5cd3",
   "metadata": {},
   "outputs": [
    {
     "data": {
      "text/plain": [
       "<matplotlib.collections.PathCollection at 0x7f7dd17a0430>"
      ]
     },
     "execution_count": 89,
     "metadata": {},
     "output_type": "execute_result"
    },
    {
     "data": {
      "image/png": "[encoded data removed]",
      "text/plain": [
       "<Figure size 432x288 with 1 Axes>"
      ]
     },
     "metadata": {
      "needs_background": "light"
     },
     "output_type": "display_data"
    }
   ],
   "source": [
    "plt.scatter(x[:,0],x[:,1],c=db.labels_)"
   ]
  },
  {
   "cell_type": "code",
   "execution_count": 86,
   "id": "868d92ca",
   "metadata": {},
   "outputs": [
    {
     "name": "stdout",
     "output_type": "stream",
     "text": [
      "[0 1 0 1 1 1 2 2 0 1 1 3 0 3 2 4 2 1 2 2 2 2 2 1 0 0 0 0 2 2 5 4 0 1 2 6 1\n",
      " 0 0 2 2 0 0 7 1 1 0 0 2 2 6 0 1 0 2 2 0 0 1 8 0 2 2 2 2 0 1 2 0 1 2 9 1 4\n",
      " 0 1 1 1 2 0 1 1 0 1 0 1 1 1 0 1 0 0 2 2 2 2 1 1 2 2]\n"
     ]
    }
   ],
   "source": [
    "print(max(db.labels_))"
   ]
  },
  {
   "cell_type": "code",
   "execution_count": 88,
   "id": "f30525ad",
   "metadata": {},
   "outputs": [
    {
     "name": "stdout",
     "output_type": "stream",
     "text": [
      "[[0.         0.18723606]\n",
      " [0.         0.167583  ]\n",
      " [0.         0.11643214]\n",
      " [0.         0.33785959]\n",
      " [0.         0.19314137]\n",
      " [0.         0.17643528]\n",
      " [0.         0.08505347]\n",
      " [0.         0.11646708]\n",
      " [0.         0.21753064]\n",
      " [0.         0.01913568]\n",
      " [0.         0.01638617]\n",
      " [0.         0.20172819]\n",
      " [0.         0.22293213]\n",
      " [0.         0.20172819]\n",
      " [0.         0.07446295]\n",
      " [0.         0.28856681]\n",
      " [0.         0.25157226]\n",
      " [0.         0.13261632]\n",
      " [0.         0.24055041]\n",
      " [0.         0.14291448]\n",
      " [0.         0.3833089 ]\n",
      " [0.         0.18830376]\n",
      " [0.         0.01053535]\n",
      " [0.         0.13261632]\n",
      " [0.         0.0901548 ]\n",
      " [0.         0.19067025]\n",
      " [0.         0.09590913]\n",
      " [0.         0.0628438 ]\n",
      " [0.         0.13549229]\n",
      " [0.         0.18425726]\n",
      " [0.         0.52014853]\n",
      " [0.         0.30062066]\n",
      " [0.         0.24363886]\n",
      " [0.         0.27332233]\n",
      " [0.         0.13549229]\n",
      " [0.         0.22475647]\n",
      " [0.         0.03855181]\n",
      " [0.         0.09129491]\n",
      " [0.         0.15400214]\n",
      " [0.         0.22788854]\n",
      " [0.         0.25335508]\n",
      " [0.         0.20415028]\n",
      " [0.         0.18056595]\n",
      " [0.         0.62893505]\n",
      " [0.         0.05820002]\n",
      " [0.         0.07283143]\n",
      " [0.         0.23199266]\n",
      " [0.         0.09129491]\n",
      " [0.         0.20740474]\n",
      " [0.         0.24936438]\n",
      " [0.         0.22475647]\n",
      " [0.         0.09590913]\n",
      " [0.         0.167583  ]\n",
      " [0.         0.15400214]\n",
      " [0.         0.22788854]\n",
      " [0.         0.25335508]\n",
      " [0.         0.11643214]\n",
      " [0.         0.22506988]\n",
      " [0.         0.12588514]\n",
      " [0.         0.68190459]\n",
      " [0.         0.0628438 ]\n",
      " [0.         0.13140034]\n",
      " [0.         0.07446295]\n",
      " [0.         0.31689455]\n",
      " [0.         0.13140034]\n",
      " [0.         0.2206028 ]\n",
      " [0.         0.01638617]\n",
      " [0.         0.33408117]\n",
      " [0.         0.18179769]\n",
      " [0.         0.16604725]\n",
      " [0.         0.11646708]\n",
      " [0.         0.57573817]\n",
      " [0.         0.47115884]\n",
      " [0.         0.28856681]\n",
      " [0.         0.15684882]\n",
      " [0.         0.28209933]\n",
      " [0.         0.12588514]\n",
      " [0.         0.01913568]\n",
      " [0.         0.18830376]\n",
      " [0.         0.01029088]\n",
      " [0.         0.24570012]\n",
      " [0.         0.05820002]\n",
      " [0.         0.19441584]\n",
      " [0.         0.24570012]\n",
      " [0.         0.15684882]\n",
      " [0.         0.14616048]\n",
      " [0.         0.03855181]\n",
      " [0.         0.29431202]\n",
      " [0.         0.16801323]\n",
      " [0.         0.09137479]\n",
      " [0.         0.21519424]\n",
      " [0.         0.01029088]\n",
      " [0.         0.17483597]\n",
      " [0.         0.12554701]\n",
      " [0.         0.08505347]\n",
      " [0.         0.13358847]\n",
      " [0.         0.23610766]\n",
      " [0.         0.28130753]\n",
      " [0.         0.01053535]\n",
      " [0.         0.12554701]] [[ 0  2]\n",
      " [ 1 52]\n",
      " [ 2 56]\n",
      " [ 3 83]\n",
      " [ 4 17]\n",
      " [ 5 36]\n",
      " [ 6 94]\n",
      " [ 7 70]\n",
      " [ 8 38]\n",
      " [ 9 77]\n",
      " [10 66]\n",
      " [11 13]\n",
      " [12 79]\n",
      " [13 11]\n",
      " [14 62]\n",
      " [15 73]\n",
      " [16 28]\n",
      " [17 23]\n",
      " [18 54]\n",
      " [19 61]\n",
      " [20 67]\n",
      " [21 78]\n",
      " [22 98]\n",
      " [23 17]\n",
      " [24 27]\n",
      " [25 38]\n",
      " [26 51]\n",
      " [27 60]\n",
      " [28 34]\n",
      " [29 92]\n",
      " [30 86]\n",
      " [31 73]\n",
      " [32 46]\n",
      " [33 69]\n",
      " [34 28]\n",
      " [35 50]\n",
      " [36 86]\n",
      " [37 47]\n",
      " [38 53]\n",
      " [39 54]\n",
      " [40 55]\n",
      " [41 91]\n",
      " [42 53]\n",
      " [43 80]\n",
      " [44 81]\n",
      " [45  9]\n",
      " [46 47]\n",
      " [47 37]\n",
      " [48 99]\n",
      " [49  7]\n",
      " [50 35]\n",
      " [51 26]\n",
      " [52  1]\n",
      " [53 38]\n",
      " [54 39]\n",
      " [55 40]\n",
      " [56  2]\n",
      " [57 90]\n",
      " [58 76]\n",
      " [59 56]\n",
      " [60 27]\n",
      " [61 64]\n",
      " [62 14]\n",
      " [63 29]\n",
      " [64 61]\n",
      " [65 82]\n",
      " [66 10]\n",
      " [67 78]\n",
      " [68 37]\n",
      " [69 66]\n",
      " [70  7]\n",
      " [71 75]\n",
      " [72 83]\n",
      " [73 15]\n",
      " [74 84]\n",
      " [75 97]\n",
      " [76 58]\n",
      " [77  9]\n",
      " [78 21]\n",
      " [79 91]\n",
      " [80 83]\n",
      " [81 44]\n",
      " [82 51]\n",
      " [83 80]\n",
      " [84 74]\n",
      " [85 44]\n",
      " [86 36]\n",
      " [87  4]\n",
      " [88 38]\n",
      " [89 45]\n",
      " [90 74]\n",
      " [91 79]\n",
      " [92 95]\n",
      " [93 99]\n",
      " [94  6]\n",
      " [95 70]\n",
      " [96 76]\n",
      " [97 96]\n",
      " [98 22]\n",
      " [99 93]]\n"
     ]
    }
   ],
   "source": [
    "import sklearn.neighbors as neighbors\n",
    "\n",
    "nn=neighbors.NearestNeighbors(n_neighbors=2,metric='euclidean')\n",
    "nn.fit(x)\n",
    "dis,ind=nn.kneighbors(x,n_neighbors=2)\n",
    "print(dis,ind)"
   ]
  }
 ],
 "metadata": {
  "interpreter": {
   "hash": "e9bfeb32fedd904fa6ada181373a3333e86c26ddd6be9790cb7e21806d15df74"
  },
  "kernelspec": {
   "display_name": "Python 3.8.12 64-bit ('DadaMining': conda)",
   "language": "python",
   "name": "python3"
  },
  "language_info": {
   "codemirror_mode": {
    "name": "ipython",
    "version": 3
   },
   "file_extension": ".py",
   "mimetype": "text/x-python",
   "name": "python",
   "nbconvert_exporter": "python",
   "pygments_lexer": "ipython3",
   "version": "3.8.12"
  }
 },
 "nbformat": 4,
 "nbformat_minor": 5
}
