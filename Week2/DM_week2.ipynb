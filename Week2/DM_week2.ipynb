{
 "cells": [
  {
   "cell_type": "markdown",
   "metadata": {},
   "source": [
    "2 Getting Started"
   ]
  },
  {
   "cell_type": "code",
   "execution_count": 57,
   "metadata": {},
   "outputs": [
    {
     "name": "stdout",
     "output_type": "stream",
     "text": [
      "classes= ['setosa' 'versicolor' 'virginica']\n",
      "attributes= ['sepal length (cm)', 'sepal width (cm)', 'petal length (cm)', 'petal width (cm)']\n",
      "150\n"
     ]
    }
   ],
   "source": [
    "from sklearn.datasets import load_iris\n",
    "\n",
    "iris=load_iris()\n",
    "print('classes=',iris.target_names)\n",
    "print('attributes=',iris.feature_names)\n",
    "M=len(iris.data)\n",
    "print(M)\n"
   ]
  },
  {
   "cell_type": "markdown",
   "metadata": {},
   "source": [
    "3 Constructing a Set of Classification Rules"
   ]
  },
  {
   "cell_type": "code",
   "execution_count": 58,
   "metadata": {},
   "outputs": [
    {
     "data": {
      "text/plain": [
       "array([0, 0, 0, 0, 0, 0, 0, 0, 0, 0, 0, 0, 0, 0, 0, 0, 0, 0, 0, 0, 0, 0,\n",
       "       0, 0, 0, 0, 0, 0, 0, 0, 0, 0, 0, 0, 0, 0, 0, 0, 0, 0, 0, 0, 0, 0,\n",
       "       0, 0, 0, 0, 0, 0, 1, 1, 1, 1, 1, 1, 1, 1, 1, 1, 1, 1, 1, 1, 1, 1,\n",
       "       1, 1, 1, 1, 1, 1, 1, 1, 1, 1, 1, 1, 1, 1, 1, 1, 1, 1, 1, 1, 1, 1,\n",
       "       1, 1, 1, 1, 1, 1, 1, 1, 1, 1, 1, 1, 2, 2, 2, 2, 2, 2, 2, 2, 2, 2,\n",
       "       2, 2, 2, 2, 2, 2, 2, 2, 2, 2, 2, 2, 2, 2, 2, 2, 2, 2, 2, 2, 2, 2,\n",
       "       2, 2, 2, 2, 2, 2, 2, 2, 2, 2, 2, 2, 2, 2, 2, 2, 2, 2])"
      ]
     },
     "execution_count": 58,
     "metadata": {},
     "output_type": "execute_result"
    }
   ],
   "source": [
    "iris.keys()\n",
    "iris.target"
   ]
  },
  {
   "cell_type": "code",
   "execution_count": 59,
   "metadata": {},
   "outputs": [],
   "source": [
    "data=iris.data\n",
    "classes=iris.target\n",
    "len_class_fre={}\n",
    "len_most_fre={}\n",
    "wid_class_fre={}\n",
    "wid_most_fre={}"
   ]
  },
  {
   "cell_type": "code",
   "execution_count": 60,
   "metadata": {},
   "outputs": [
    {
     "name": "stdout",
     "output_type": "stream",
     "text": [
      "{5.1: [8, 1, 0], 4.9: [4, 1, 1], 4.7: [2, 0, 0], 4.6: [4, 0, 0], 5.0: [8, 2, 0], 5.4: [5, 1, 0], 4.4: [3, 0, 0], 4.8: [5, 0, 0], 4.3: [1, 0, 0], 5.8: [1, 3, 3], 5.7: [2, 5, 1], 5.2: [3, 1, 0], 5.5: [2, 5, 0], 4.5: [1, 0, 0], 5.3: [1, 0, 0], 7.0: [0, 1, 0], 6.4: [0, 2, 5], 6.9: [0, 1, 3], 6.5: [0, 1, 4], 6.3: [0, 3, 6], 6.6: [0, 2, 0], 5.9: [0, 2, 1], 6.0: [0, 4, 2], 6.1: [0, 4, 2], 5.6: [0, 5, 1], 6.7: [0, 3, 5], 6.2: [0, 2, 2], 6.8: [0, 1, 2], 7.1: [0, 0, 1], 7.6: [0, 0, 1], 7.3: [0, 0, 1], 7.2: [0, 0, 3], 7.7: [0, 0, 4], 7.4: [0, 0, 1], 7.9: [0, 0, 1]}\n"
     ]
    }
   ],
   "source": [
    "for i in range(len(data)):\n",
    "\n",
    "    if data[i][0] not in len_class_fre:\n",
    "        list=[0,0,0]\n",
    "        list[int(classes[i])]+=1\n",
    "        len_class_fre[data[i][0]]=list\n",
    "    else:\n",
    "        list=len_class_fre[data[i][0]]\n",
    "        \n",
    "        list[int(classes[i])]+=1\n",
    "        len_class_fre[data[i][0]]=list\n",
    "\n",
    "\n",
    "\n",
    "print(len_class_fre)\n",
    "    "
   ]
  },
  {
   "cell_type": "code",
   "execution_count": 61,
   "metadata": {},
   "outputs": [
    {
     "name": "stdout",
     "output_type": "stream",
     "text": [
      "{5.1: 0, 4.9: 0, 4.7: 0, 4.6: 0, 5.0: 0, 5.4: 0, 4.4: 0, 4.8: 0, 4.3: 0, 5.8: 1, 5.7: 1, 5.2: 0, 5.5: 1, 4.5: 0, 5.3: 0, 7.0: 1, 6.4: 2, 6.9: 2, 6.5: 2, 6.3: 2, 6.6: 1, 5.9: 1, 6.0: 1, 6.1: 1, 5.6: 1, 6.7: 2, 6.2: 1, 6.8: 2, 7.1: 2, 7.6: 2, 7.3: 2, 7.2: 2, 7.7: 2, 7.4: 2, 7.9: 2}\n"
     ]
    }
   ],
   "source": [
    "for i in len_class_fre:\n",
    "    len_most_fre[i]=len_class_fre[i].index(max(len_class_fre[i]))\n",
    "print(len_most_fre)"
   ]
  },
  {
   "cell_type": "code",
   "execution_count": 62,
   "metadata": {},
   "outputs": [
    {
     "name": "stdout",
     "output_type": "stream",
     "text": [
      "{3.5: 0, 3.0: 2, 3.2: 0, 3.1: 0, 3.6: 0, 3.9: 0, 3.4: 0, 2.9: 1, 3.7: 0, 4.0: 0, 4.4: 0, 3.8: 0, 3.3: 2, 4.1: 0, 4.2: 0, 2.3: 1, 2.8: 2, 2.4: 1, 2.7: 1, 2.0: 1, 2.2: 1, 2.5: 1, 2.6: 1}\n",
      "{3.5: [6, 0, 0], 3.0: [6, 8, 12], 3.2: [5, 3, 5], 3.1: [4, 3, 4], 3.6: [3, 0, 1], 3.9: [2, 0, 0], 3.4: [9, 1, 2], 2.9: [1, 7, 2], 3.7: [3, 0, 0], 4.0: [1, 0, 0], 4.4: [1, 0, 0], 3.8: [4, 0, 2], 3.3: [2, 1, 3], 4.1: [1, 0, 0], 4.2: [1, 0, 0], 2.3: [1, 3, 0], 2.8: [0, 6, 8], 2.4: [0, 3, 0], 2.7: [0, 5, 4], 2.0: [0, 1, 0], 2.2: [0, 2, 1], 2.5: [0, 4, 4], 2.6: [0, 3, 2]}\n"
     ]
    }
   ],
   "source": [
    "for i in range(len(data)):\n",
    "\n",
    "    if data[i][1] not in wid_class_fre:\n",
    "        list=[0,0,0]\n",
    "        list[int(classes[i])]+=1\n",
    "        wid_class_fre[data[i][1]]=list\n",
    "    else:\n",
    "        list=wid_class_fre[data[i][1]]\n",
    "        \n",
    "        list[int(classes[i])]+=1\n",
    "        wid_class_fre[data[i][1]]=list\n",
    "for i in wid_class_fre:\n",
    "    wid_most_fre[i]=wid_class_fre[i].index(max(wid_class_fre[i]))\n",
    "print(wid_most_fre)\n",
    "print(wid_class_fre)"
   ]
  },
  {
   "cell_type": "code",
   "execution_count": 63,
   "metadata": {},
   "outputs": [
    {
     "data": {
      "text/plain": [
       "0"
      ]
     },
     "execution_count": 63,
     "metadata": {},
     "output_type": "execute_result"
    }
   ],
   "source": [
    "import random\n",
    "def findClass(sl,sw):\n",
    "    sl_class=len_most_fre[sl]\n",
    "    sw_class=wid_most_fre[sw]\n",
    "    if sl_class==sw_class:\n",
    "            return sl_class\n",
    "    else:\n",
    "        if len_class_fre[sl][sl_class]>wid_class_fre[sw][sw_class]:\n",
    "            return sl_class\n",
    "        elif len_class_fre[sl][sl_class]<wid_class_fre[sw][sw_class]:\n",
    "            return sw_class\n",
    "        elif len_class_fre[sl][sl_class]==wid_class_fre[sw][sw_class]:\n",
    "            return random.choice([sl_class,sw_class])\n",
    "\n",
    "\n",
    "findClass(4.3,2.0)\n"
   ]
  },
  {
   "cell_type": "code",
   "execution_count": 64,
   "metadata": {},
   "outputs": [
    {
     "name": "stdout",
     "output_type": "stream",
     "text": [
      "0.6066666666666667 0.3933333333333333\n"
     ]
    }
   ],
   "source": [
    "def score():\n",
    "    correct_num=0\n",
    "    for i in range(len(data)):\n",
    "        sl=data[i][0]\n",
    "        sw=data[i][1]\n",
    "        if findClass(sl,sw)==classes[i]:\n",
    "            correct_num+=1\n",
    "    return correct_num/M\n",
    "\n",
    "score=score()\n",
    "error=1-score\n",
    "print(score,error)\n",
    "\n"
   ]
  },
  {
   "cell_type": "markdown",
   "metadata": {},
   "source": [
    "## 4 Constructing a Decision Tree Classifier"
   ]
  },
  {
   "cell_type": "code",
   "execution_count": 65,
   "metadata": {},
   "outputs": [],
   "source": [
    "from sklearn.datasets import load_iris\n",
    "from sklearn.model_selection import train_test_split\n",
    "from sklearn import tree"
   ]
  },
  {
   "cell_type": "code",
   "execution_count": 66,
   "metadata": {},
   "outputs": [
    {
     "name": "stdout",
     "output_type": "stream",
     "text": [
      "classes= ['setosa' 'versicolor' 'virginica']\n"
     ]
    },
    {
     "data": {
      "text/plain": [
       "DecisionTreeClassifier(random_state=0)"
      ]
     },
     "execution_count": 66,
     "metadata": {},
     "output_type": "execute_result"
    }
   ],
   "source": [
    "iris = load_iris()\n",
    "print('classes=' ,iris.target_names)\n",
    "x_train,x_test,y_train,y_test=train_test_split(iris.data,iris.target,random_state=0)\n",
    "\n",
    "clf=tree.DecisionTreeClassifier(random_state=0)\n",
    "clf.fit(x_train,y_train)"
   ]
  },
  {
   "cell_type": "code",
   "execution_count": 67,
   "metadata": {},
   "outputs": [
    {
     "name": "stdout",
     "output_type": "stream",
     "text": [
      "37.0 38 97.36842105263158\n"
     ]
    }
   ],
   "source": [
    "y_hat=clf.predict(x_test)\n",
    "count=0.0 \n",
    "M_test=len(y_test)\n",
    "for i in range(M_test):\n",
    "    if(y_hat[i]==y_test[i]):\n",
    "        count+=1\n",
    "score=(count/M_test)*100\n",
    "print(count,M_test,score)\n"
   ]
  },
  {
   "cell_type": "code",
   "execution_count": 68,
   "metadata": {},
   "outputs": [
    {
     "name": "stdout",
     "output_type": "stream",
     "text": [
      "training score= 1.0\n",
      "test score 0.9736842105263158\n"
     ]
    }
   ],
   "source": [
    "print('training score=',clf.score(x_train,y_train))\n",
    "print('test score',clf.score(x_test,y_test))"
   ]
  },
  {
   "cell_type": "code",
   "execution_count": 69,
   "metadata": {},
   "outputs": [
    {
     "name": "stdout",
     "output_type": "stream",
     "text": [
      "accuracy score = 0.9736842105263158\n"
     ]
    }
   ],
   "source": [
    "from sklearn import metrics\n",
    "print('accuracy score =',metrics.accuracy_score(y_test,y_hat))"
   ]
  },
  {
   "cell_type": "markdown",
   "metadata": {},
   "source": [
    "#confusion matrix"
   ]
  },
  {
   "cell_type": "code",
   "execution_count": 70,
   "metadata": {},
   "outputs": [
    {
     "name": "stdout",
     "output_type": "stream",
     "text": [
      "[[13  0  0]\n",
      " [ 0 15  1]\n",
      " [ 0  0  9]]\n"
     ]
    }
   ],
   "source": [
    "cm = metrics.confusion_matrix(y_test,y_hat)\n",
    "print(cm)"
   ]
  },
  {
   "cell_type": "code",
   "execution_count": 71,
   "metadata": {},
   "outputs": [
    {
     "name": "stdout",
     "output_type": "stream",
     "text": [
      "[1.  1.  0.9]\n",
      "[1.     0.9375 1.    ]\n",
      "[1.         0.96774194 0.94736842]\n"
     ]
    }
   ],
   "source": [
    "precision = metrics.precision_score(y_test,y_hat,average=None)\n",
    "recall = metrics.recall_score(y_test,y_hat,average=None)\n",
    "f1 = metrics.f1_score(y_test,y_hat,average=None)\n",
    "print(precision)\n",
    "print(recall)\n",
    "print(f1)"
   ]
  },
  {
   "cell_type": "code",
   "execution_count": 72,
   "metadata": {},
   "outputs": [
    {
     "name": "stdout",
     "output_type": "stream",
     "text": [
      "  (0, 0)\t1\n",
      "  (0, 1)\t1\n",
      "  (1, 0)\t1\n",
      "  (1, 1)\t1\n",
      "  (2, 0)\t1\n",
      "  (2, 1)\t1\n",
      "  (3, 0)\t1\n",
      "  (3, 1)\t1\n",
      "  (4, 0)\t1\n",
      "  (4, 1)\t1\n",
      "  (5, 0)\t1\n",
      "  (5, 1)\t1\n",
      "  (6, 0)\t1\n",
      "  (6, 1)\t1\n",
      "  (7, 0)\t1\n",
      "  (7, 1)\t1\n",
      "  (8, 0)\t1\n",
      "  (8, 1)\t1\n",
      "  (9, 0)\t1\n",
      "  (9, 1)\t1\n",
      "  (10, 0)\t1\n",
      "  (10, 1)\t1\n",
      "  (11, 0)\t1\n",
      "  (11, 1)\t1\n",
      "  (12, 0)\t1\n",
      "  :\t:\n",
      "  (143, 12)\t1\n",
      "  (144, 0)\t1\n",
      "  (144, 2)\t1\n",
      "  (144, 8)\t1\n",
      "  (144, 12)\t1\n",
      "  (145, 0)\t1\n",
      "  (145, 2)\t1\n",
      "  (145, 8)\t1\n",
      "  (145, 12)\t1\n",
      "  (146, 0)\t1\n",
      "  (146, 2)\t1\n",
      "  (146, 8)\t1\n",
      "  (146, 12)\t1\n",
      "  (147, 0)\t1\n",
      "  (147, 2)\t1\n",
      "  (147, 8)\t1\n",
      "  (147, 12)\t1\n",
      "  (148, 0)\t1\n",
      "  (148, 2)\t1\n",
      "  (148, 8)\t1\n",
      "  (148, 12)\t1\n",
      "  (149, 0)\t1\n",
      "  (149, 2)\t1\n",
      "  (149, 8)\t1\n",
      "  (149, 12)\t1\n"
     ]
    }
   ],
   "source": [
    "# Decision Tree \n",
    "decision_path=clf.decision_path(iris.data)\n",
    "\n",
    "print(decision_path)"
   ]
  },
  {
   "cell_type": "code",
   "execution_count": 73,
   "metadata": {},
   "outputs": [
    {
     "data": {
      "text/plain": [
       "[Text(0.4, 0.9, 'X[3] <= 0.8\\ngini = 0.665\\nsamples = 112\\nvalue = [37, 34, 41]'),\n",
       " Text(0.3, 0.7, 'gini = 0.0\\nsamples = 37\\nvalue = [37, 0, 0]'),\n",
       " Text(0.5, 0.7, 'X[2] <= 4.95\\ngini = 0.496\\nsamples = 75\\nvalue = [0, 34, 41]'),\n",
       " Text(0.2, 0.5, 'X[3] <= 1.65\\ngini = 0.153\\nsamples = 36\\nvalue = [0, 33, 3]'),\n",
       " Text(0.1, 0.3, 'gini = 0.0\\nsamples = 32\\nvalue = [0, 32, 0]'),\n",
       " Text(0.3, 0.3, 'X[1] <= 3.1\\ngini = 0.375\\nsamples = 4\\nvalue = [0, 1, 3]'),\n",
       " Text(0.2, 0.1, 'gini = 0.0\\nsamples = 3\\nvalue = [0, 0, 3]'),\n",
       " Text(0.4, 0.1, 'gini = 0.0\\nsamples = 1\\nvalue = [0, 1, 0]'),\n",
       " Text(0.8, 0.5, 'X[3] <= 1.75\\ngini = 0.05\\nsamples = 39\\nvalue = [0, 1, 38]'),\n",
       " Text(0.7, 0.3, 'X[3] <= 1.65\\ngini = 0.375\\nsamples = 4\\nvalue = [0, 1, 3]'),\n",
       " Text(0.6, 0.1, 'gini = 0.0\\nsamples = 3\\nvalue = [0, 0, 3]'),\n",
       " Text(0.8, 0.1, 'gini = 0.0\\nsamples = 1\\nvalue = [0, 1, 0]'),\n",
       " Text(0.9, 0.3, 'gini = 0.0\\nsamples = 35\\nvalue = [0, 0, 35]')]"
      ]
     },
     "execution_count": 73,
     "metadata": {},
     "output_type": "execute_result"
    },
    {
     "data": {
      "image/png": "[encoded data removed]",
      "text/plain": [
       "<Figure size 432x288 with 1 Axes>"
      ]
     },
     "metadata": {
      "needs_background": "light"
     },
     "output_type": "display_data"
    }
   ],
   "source": [
    "from sklearn import tree\n",
    "tree.plot_tree(clf)"
   ]
  },
  {
   "cell_type": "markdown",
   "metadata": {},
   "source": [
    "5 Constructing a Logistic Regression Classifier"
   ]
  },
  {
   "cell_type": "code",
   "execution_count": 74,
   "metadata": {},
   "outputs": [
    {
     "name": "stdout",
     "output_type": "stream",
     "text": [
      "[[5.8 2.8]\n",
      " [6.  2.2]\n",
      " [5.5 4.2]\n",
      " [7.3 2.9]\n",
      " [5.  3.4]\n",
      " [6.3 3.3]\n",
      " [5.  3.5]\n",
      " [6.7 3.1]\n",
      " [6.8 2.8]\n",
      " [6.1 2.8]\n",
      " [6.1 2.6]\n",
      " [6.4 3.2]\n",
      " [6.1 2.8]\n",
      " [6.5 2.8]\n",
      " [6.1 2.9]\n",
      " [4.9 3.6]\n",
      " [6.  2.9]\n",
      " [5.5 2.6]\n",
      " [4.8 3. ]\n",
      " [5.4 3.9]\n",
      " [5.6 2.8]\n",
      " [5.6 3. ]\n",
      " [4.8 3.4]\n",
      " [4.4 2.9]\n",
      " [6.2 2.8]\n",
      " [4.6 3.6]\n",
      " [5.1 3.8]\n",
      " [6.2 2.9]\n",
      " [5.  2.3]\n",
      " [5.  3.4]\n",
      " [6.4 3.1]\n",
      " [5.4 3. ]\n",
      " [5.2 3.5]\n",
      " [6.1 3. ]\n",
      " [6.4 2.8]\n",
      " [5.2 2.7]\n",
      " [5.7 3.8]\n",
      " [6.  2.7]] [2 1 0 2 0 2 0 1 1 1 2 1 1 1 1 0 1 1 0 0 2 1 0 0 2 0 0 1 1 0 2 1 0 2 2 1 0\n",
      " 1]\n"
     ]
    },
    {
     "data": {
      "text/plain": [
       "LogisticRegression(multi_class='multinomial')"
      ]
     },
     "execution_count": 74,
     "metadata": {},
     "output_type": "execute_result"
    }
   ],
   "source": [
    "import sklearn.model_selection as model_selection\n",
    "import sklearn.linear_model as linear_model\n",
    "x=iris.data[:,:2]\n",
    "y=iris.target\n",
    "x_train,x_test,y_train,y_test=model_selection.train_test_split(x[:,:2],y,random_state=0)\n",
    "\n",
    "clf=linear_model.LogisticRegression(solver='lbfgs',multi_class='multinomial')\n",
    "print(x_test,y_test)\n",
    "clf.fit(x_train,y_train)"
   ]
  },
  {
   "cell_type": "code",
   "execution_count": 75,
   "metadata": {},
   "outputs": [
    {
     "name": "stdout",
     "output_type": "stream",
     "text": [
      "30.0 38 78.94736842105263\n"
     ]
    }
   ],
   "source": [
    "y_hat=clf.predict(x_test)\n",
    "count=0.0 \n",
    "M_test=len(y_test)\n",
    "for i in range(M_test):\n",
    "    if(y_hat[i]==y_test[i]):\n",
    "        count+=1\n",
    "score=(count/M_test)*100\n",
    "print(count,M_test,score)"
   ]
  },
  {
   "cell_type": "code",
   "execution_count": 76,
   "metadata": {},
   "outputs": [
    {
     "name": "stdout",
     "output_type": "stream",
     "text": [
      "training score= 0.8392857142857143\n",
      "test score 0.7894736842105263\n"
     ]
    }
   ],
   "source": [
    "print('training score=',clf.score(x_train,y_train))\n",
    "print('test score',clf.score(x_test,y_test))"
   ]
  },
  {
   "cell_type": "code",
   "execution_count": 77,
   "metadata": {},
   "outputs": [
    {
     "name": "stdout",
     "output_type": "stream",
     "text": [
      "accuracy score = 0.7894736842105263\n"
     ]
    }
   ],
   "source": [
    "print('accuracy score =',metrics.accuracy_score(y_test,y_hat))"
   ]
  },
  {
   "cell_type": "code",
   "execution_count": 78,
   "metadata": {},
   "outputs": [
    {
     "name": "stdout",
     "output_type": "stream",
     "text": [
      "[[13  0  0]\n",
      " [ 0 11  5]\n",
      " [ 0  3  6]]\n"
     ]
    }
   ],
   "source": [
    "cm = metrics.confusion_matrix(y_test,y_hat)\n",
    "print(cm)"
   ]
  },
  {
   "cell_type": "code",
   "execution_count": 79,
   "metadata": {},
   "outputs": [
    {
     "name": "stdout",
     "output_type": "stream",
     "text": [
      "[1.         0.78571429 0.54545455]\n",
      "[1.         0.6875     0.66666667]\n",
      "[1.         0.73333333 0.6       ]\n"
     ]
    }
   ],
   "source": [
    "precision = metrics.precision_score(y_test,y_hat,average=None)\n",
    "recall = metrics.recall_score(y_test,y_hat,average=None)\n",
    "f1 = metrics.f1_score(y_test,y_hat,average=None)\n",
    "print(precision)\n",
    "print(recall)\n",
    "print(f1)"
   ]
  },
  {
   "cell_type": "markdown",
   "metadata": {},
   "source": [
    "5.2 What do the decision boundaries look like?"
   ]
  },
  {
   "cell_type": "code",
   "execution_count": 103,
   "metadata": {},
   "outputs": [
    {
     "name": "stdout",
     "output_type": "stream",
     "text": [
      "[1 0 0 0 0 0 0 0 0 0 0 0 0 0 0 0 0 0 0 0 0 0 0 0 0 1 1 0 0 0 0 0 0 0 0 0 0\n",
      " 0 0 0 0 0 0 0 0 0 0 0 0 0 1 1 1 0 0 0 0 0 0 0 0 0 0 0 0 0 0 0 0 0 0 0 0 0\n",
      " 0 1 1 1 1 0 0 0 0 0 0 0 0 0 0 0 0 0 0 0 0 0 0 0 0 0 1 1 1 1 0 0 0 0 0 0 0\n",
      " 0 0 0 0 0 0 0 0 0 0 0 0 0 0 1 1 1 1 1 0 0 0 0 0 0 0 0 0 0 0 0 0 0 0 0 0 0\n",
      " 0 0 1 1 1 1 1 1 0 0 0 0 0 0 0 0 0 0 0 0 0 0 0 0 0 0 0 1 1 1 1 1 1 1 0 0 0\n",
      " 0 0 0 0 0 0 0 0 0 0 0 0 0 0 0 1 1 1 1 1 1 1 1 0 0 0 0 0 0 0 0 0 0 0 0 0 0\n",
      " 0 0 0 1 1 1 1 1 1 1 1 1 0 0 0 0 0 0 0 0 0 0 0 0 0 0 0 0 1 1 1 1 1 1 1 1 1\n",
      " 1 0 0 0 0 0 0 0 0 0 0 0 0 0 0 0 1 1 1 1 1 1 1 1 1 1 1 0 0 0 0 0 0 0 0 0 0\n",
      " 0 0 0 0 1 1 1 1 1 1 1 1 1 1 1 0 0 0 0 0 0 0 0 0 0 0 0 0 0 1 1 1 1 1 1 1 1\n",
      " 1 1 1 1 0 0 0 0 0 0 0 0 0 0 0 0 0 1 1 1 1 1 1 1 1 1 1 1 1 1 0 0 0 0 0 0 0\n",
      " 0 0 0 0 0 1 1 1 1 1 1 1 1 1 1 1 1 1 1 0 0 0 0 0 0 0 0 0 0 0 1 1 1 1 1 1 1\n",
      " 1 1 1 1 1 1 1 1 0 0 0 0 0 0 0 0 0 0 1 1 1 1 1 1 1 1 1 1 1 1 2 2 2 2 2 0 0\n",
      " 0 0 0 0 0 0 1 1 1 1 1 1 1 1 1 1 2 2 2 2 2 2 2 2 0 0 0 0 0 0 0 1 1 1 1 1 1\n",
      " 1 1 2 2 2 2 2 2 2 2 2 2 2 2 0 0 0 0 0 1 1 1 1 1 1 2 2 2 2 2 2 2 2 2 2 2 2\n",
      " 2 2 2 2 0 0 0 1 1 1 1 2 2 2 2 2 2 2 2 2 2 2 2 2 2 2 2 2 2 2 0 0 1 2 2 2 2\n",
      " 2 2 2 2 2 2 2 2 2 2 2 2 2 2 2 2 2 2 2 2 2 2 2 2 2 2 2 2 2 2 2 2 2 2 2 2 2\n",
      " 2 2 2 2 2 2 2 2 2 2 2 2 2 2 2 2 2 2 2 2 2 2 2 2 2 2 2 2 2 2 2 2 2 2 2 2 2\n",
      " 2 2 2 2 2 2 2 2 2 2 2 2 2 2 2 2 2 2 2 2 2 2 2 2 2 2 2 2 2 2 2 2 2 2 2 2 2\n",
      " 2 2 2 2 2 2 2 2 2 2 2 2 2 2 2 2 2 2 2 2 2 2 2 2 2 2 2 2 2 2 2 2 2 2 2 2 2\n",
      " 2 2 2 2 2 2 2 2 2 2 2 2 2 2 2 2 2 2 2 2 2 2 2 2 2 2 2 2 2 2 2 2 2 2 2 2 2\n",
      " 2 2 2 2 2 2 2 2 2 2 2 2 2 2 2 2 2 2 2 2 2 2 2 2 2 2 2 2 2 2 2 2 2 2 2 2 2\n",
      " 2 2 2 2 2 2 2 2 2 2 2 2 2 2 2 2 2 2 2 2 2 2 2 2 2 2 2 2 2 2 2 2 2 2 2 2 2\n",
      " 2 2 2 2 2 2 2 2 2 2 2 2 2 2 2 2 2 2 2 2 2 2 2 2 2 2 2 2 2 2 2 2 2 2 2 2 2\n",
      " 2 2 2 2 2 2 2 2 2 2 2 2 2 2 2 2 2 2 2 2 2 2 2 2 2 2 2 2 2 2 2 2 2 2 2 2 2\n",
      " 2 2 2 2 2 2 2 2 2 2 2 2 2 2 2 2 2 2 2 2 2 2 2 2 2 2 2 2 2 2 2 2 2 2 2 2 2]\n"
     ]
    }
   ],
   "source": [
    "import numpy as np\n",
    "x_pairs=[]\n",
    "for i in np.arange(4.3,8.0,0.1):\n",
    "    for j in np.arange(2.0,4.5,0.1):\n",
    "        x_pair=[i,j]\n",
    "        x_pairs.append(x_pair)\n",
    "\n",
    "y_hat_pairs=clf.predict(x_pairs)\n",
    "\n",
    "print(y_hat_pairs)"
   ]
  },
  {
   "cell_type": "code",
   "execution_count": 81,
   "metadata": {},
   "outputs": [
    {
     "name": "stdout",
     "output_type": "stream",
     "text": [
      "1.0\n"
     ]
    }
   ],
   "source": [
    "print(clf.score(x_pairs,y_hat_pairs))"
   ]
  },
  {
   "cell_type": "code",
   "execution_count": 108,
   "metadata": {},
   "outputs": [],
   "source": [
    "def trans(l):\n",
    "    for i in range(len(l)):\n",
    "        for j in range(i):\n",
    "            l[i][j], l[j][i] = l[j][i], l[i][j]\n",
    "\n",
    "    return l"
   ]
  },
  {
   "cell_type": "code",
   "execution_count": 114,
   "metadata": {},
   "outputs": [
    {
     "data": {
      "text/plain": [
       "<matplotlib.collections.PathCollection at 0x7fa58227ec10>"
      ]
     },
     "execution_count": 114,
     "metadata": {},
     "output_type": "execute_result"
    },
    {
     "data": {
      "image/png": "[encoded data removed]",
      "text/plain": [
       "<Figure size 432x288 with 1 Axes>"
      ]
     },
     "metadata": {
      "needs_background": "light"
     },
     "output_type": "display_data"
    }
   ],
   "source": [
    "import matplotlib.pyplot as plt\n",
    "x0_range = np.arange(min(x_train[:,0]), max(x_train[:,0]), 0.1)\n",
    "x1_range = np.arange(min(x_train[:,1]), max(x_train[:,1]), 0.1)\n",
    "\n",
    "x0_mesh, x1_mesh = np.meshgrid(x0_range, x1_range)\n",
    "y_hat_mesh = clf.predict(np.concatenate((x0_mesh.reshape((-1, 1)), x1_mesh.reshape((-1, 1))), axis=1)).reshape(x0_mesh.shape)\n",
    "plt.pcolormesh(x0_mesh, x1_mesh, y_hat_mesh, shading='auto')\n",
    "plt.scatter(x_train[:,0], x_train[:,1])"
   ]
  },
  {
   "cell_type": "markdown",
   "metadata": {},
   "source": [
    "5.3 How good are the decision boundaries?\n"
   ]
  },
  {
   "cell_type": "code",
   "execution_count": 115,
   "metadata": {},
   "outputs": [
    {
     "data": {
      "text/plain": [
       "Text(0, 0.5, 'TP rate')"
      ]
     },
     "execution_count": 115,
     "metadata": {},
     "output_type": "execute_result"
    },
    {
     "data": {
      "image/png": "[encoded data removed]",
      "text/plain": [
       "<Figure size 432x288 with 1 Axes>"
      ]
     },
     "metadata": {
      "needs_background": "light"
     },
     "output_type": "display_data"
    }
   ],
   "source": [
    "import sklearn.preprocessing as preprocess\n",
    "import sklearn.metrics as metrics\n",
    "\n",
    "conf_scores = clf.decision_function(iris.data[:,:2])\n",
    "y_binary = preprocess.label_binarize(clf.predict(iris.data[:,:2]), classes=sorted(set(iris.target)))\n",
    "\n",
    "fpr = dict()\n",
    "tpr = dict()\n",
    "for c in range(max(y_train)+1):\n",
    "    fpr[c], tpr[c], tmp = metrics.roc_curve(y_binary[:, c], conf_scores[:, c])\n",
    "    plt.plot(fpr[c], tpr[c], label=iris.target_names[c])\n",
    "\n",
    "plt.xlabel( 'FP rate')\n",
    "plt.ylabel( 'TP rate')"
   ]
  }
 ],
 "metadata": {
  "interpreter": {
   "hash": "e9bfeb32fedd904fa6ada181373a3333e86c26ddd6be9790cb7e21806d15df74"
  },
  "kernelspec": {
   "display_name": "Python 3.8.12 64-bit ('DadaMining': conda)",
   "language": "python",
   "name": "python3"
  },
  "language_info": {
   "codemirror_mode": {
    "name": "ipython",
    "version": 3
   },
   "file_extension": ".py",
   "mimetype": "text/x-python",
   "name": "python",
   "nbconvert_exporter": "python",
   "pygments_lexer": "ipython3",
   "version": "3.8.12"
  },
  "orig_nbformat": 4
 },
 "nbformat": 4,
 "nbformat_minor": 2
}
